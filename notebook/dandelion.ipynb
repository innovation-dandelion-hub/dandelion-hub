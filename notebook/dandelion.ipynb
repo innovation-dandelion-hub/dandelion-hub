{
  "cells": [
    {
      "cell_type": "code",
      "execution_count": null,
      "metadata": {
        "gather": {
          "logged": 1717935200793
        }
      },
      "outputs": [],
      "source": [
        "pip install azure.cosmos"
      ]
    },
    {
      "cell_type": "code",
      "execution_count": null,
      "metadata": {
        "gather": {
          "logged": 1717937922856
        },
        "jupyter": {
          "outputs_hidden": false,
          "source_hidden": false
        },
        "nteract": {
          "transient": {
            "deleting": false
          }
        }
      },
      "outputs": [],
      "source": [
        "from azure.cosmos import CosmosClient\n",
        "import pandas as pd\n",
        "import json\n"
      ]
    },
    {
      "cell_type": "code",
      "execution_count": null,
      "metadata": {
        "gather": {
          "logged": 1717935211415
        },
        "jupyter": {
          "outputs_hidden": false,
          "source_hidden": false
        },
        "nteract": {
          "transient": {
            "deleting": false
          }
        }
      },
      "outputs": [],
      "source": [
        "# Conexión Cosmos\n",
        "endpoint = \"https://dandelioncosmo.documents.azure.com:443/\"\n",
        "key = \"duSONWYOWO31POK3hvnLzAlCFVaHvgHdzSTD57VMGltaaTCoowMJCXOvlQzi94e1XPSIc8ZAT10pACDb4lpNxw==\"\n",
        "database = \"dandelion\"\n",
        "urls_container = \"urls\"\n",
        "collected_container = \"collected\""
      ]
    },
    {
      "cell_type": "code",
      "execution_count": null,
      "metadata": {
        "gather": {
          "logged": 1717935212595
        },
        "jupyter": {
          "outputs_hidden": false,
          "source_hidden": false
        },
        "nteract": {
          "transient": {
            "deleting": false
          }
        }
      },
      "outputs": [],
      "source": [
        "# Instancias de documentos\n",
        "\n",
        "client = CosmosClient(endpoint, key)\n",
        "database = client.get_database_client(database)\n",
        "origin = database.get_container_client(urls_container)\n",
        "destiny = database.get_container_client(collected_container)"
      ]
    },
    {
      "cell_type": "code",
      "execution_count": null,
      "metadata": {
        "gather": {
          "logged": 1717940523266
        },
        "jupyter": {
          "outputs_hidden": false,
          "source_hidden": false
        },
        "nteract": {
          "transient": {
            "deleting": false
          }
        }
      },
      "outputs": [],
      "source": [
        "# Leer urls\n",
        "\n",
        "items = origin.read_all_items()\n",
        "\n",
        "# Leer cada URL y guardar el contenido en un array\n",
        "\n",
        "arr = []\n",
        "\n",
        "for item in items:\n",
        "    df = pd.read_csv(item['url'])\n",
        "    arr.append(df)\n",
        "    \n",
        "# Procesar cada iteración para su almacenamiento en la base de datos en un formato apropiado\n",
        "\n",
        "\n",
        "for arrs in arr:\n",
        "    for i in range (0, len(arr), 1):\n",
        "        transform = arr[i].to_json(orient='records')\n",
        "        document = {\n",
        "            'id' : str(i + 1),\n",
        "            'data' : json.loads(transform)\n",
        "        }\n",
        "\n",
        "        destiny.upsert_item(document)\n",
        "\n",
        "\n"
      ]
    }
  ],
  "metadata": {
    "kernel_info": {
      "name": "synapse_pyspark"
    },
    "kernelspec": {
      "display_name": "Synapse PySpark",
      "language": "Python",
      "name": "synapse_pyspark"
    },
    "language_info": {
      "codemirror_mode": "ipython",
      "file_extension": ".py",
      "mimetype": "text/x-python",
      "name": "python",
      "nbconvert_exporter": "python",
      "pygments_lexer": "ipython",
      "version": "3.8.0"
    },
    "microsoft": {
      "host": {
        "AzureML": {
          "notebookHasBeenCompleted": true
        }
      },
      "ms_spell_check": {
        "ms_spell_check_language": "es"
      }
    },
    "nteract": {
      "version": "nteract-front-end@1.0.0"
    }
  },
  "nbformat": 4,
  "nbformat_minor": 2
}
